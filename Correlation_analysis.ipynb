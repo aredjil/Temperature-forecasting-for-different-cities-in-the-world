{
 "cells": [
  {
   "cell_type": "markdown",
   "metadata": {},
   "source": [
    "## Temperature forecasting for different cities in the world\n",
    "\n",
    "## Introduction\n",
    "For this project you are asked to analyze three datasets, called respectively:\n",
    "1. pollution_us_2000_2016.csv\n",
    "2. greenhouse_gas_inventory_data_data.csv\n",
    "3. GlobalLandTemperaturesByCity.csv\n",
    "\n",
    "You are asked to extract from dataset 2 only the US countries (for which we have info in the other datasets) and to perform the following tasks:\n",
    "- to measure how pollution and temperature create cluster tracing the high populated cities in the world\n",
    "- to analyze the correlation between pollution data and temperature change.\n",
    "- to predict the yearly temperature change of a given city over a given time period, using the <b>ARIMA model</b> for <b>time series forecasting</b>, that is a model for time series forecasting integrating AR models with Moving Average.\n",
    "- (OPTIONAL) rank the 5 cities that will have a highest temperature change in US\n",
    "\n",
    "\n",
    "### TASK1 :Cluster Analysis\n",
    "You use K-means or DBSCAN to perform the cluster analysis, and create a new dataset where the cities are associated to the different identified clusters\n",
    "\n",
    "### TASK 2: Correlation Analysis\n",
    "\n",
    "You measure the correlation between:\n",
    "- temperature and latitude\n",
    "- temperature and pollution\n",
    "- temperature change (difference between the average temperature measured over the last 3 years and the previous temperature) and pollution\n",
    "\n",
    "\n",
    "### TASK 3: Predicting the Temperature of a Given City across a Specified Time Period\n",
    "After reading the data in the temperature data set, for each city cluster, before applying the ARIMA model you perform the following steps:\n",
    "\n",
    "- EDA\n",
    "- data cleaning and preprocessing (Converting the 'dt' (date) column to DateTime format, removing NaN)\n",
    "- feature selection\n",
    "- make the time-series stationary\n",
    "- check for stationarity : Calculating the Augmented Dickey-Fuller Test statistic \n",
    "- identify the (p, q) order of the ARIMA model using ACF partial autocorrelation plot\n",
    "\n",
    "Then:\n",
    "\n",
    "-fit the ARIMA model using the calculated p, q values.\n",
    "-calculate the MSE with respect to the true temp. measurements to estimate the performance of the model\n",
    "\n",
    "\n",
    "NOTE: ARIMA models need the data to be stationary i.e. the data must not exhibit trend and/or seasonality. To identify and remove trend and seasonality, we can use\n",
    "- seasonal decomposition\n",
    "- differencing"
   ]
  },
  {
   "cell_type": "code",
   "execution_count": 1,
   "metadata": {},
   "outputs": [
    {
     "data": {
      "text/html": [
       "\n",
       "            <div>\n",
       "                <ins><a href=\"ttps://ydata.ai/register\">Upgrade to ydata-sdk</a></ins>\n",
       "                <p>\n",
       "                    Improve your data and profiling with ydata-sdk, featuring data quality scoring, redundancy detection, outlier identification, text validation, and synthetic data generation.\n",
       "                </p>\n",
       "            </div>\n",
       "            "
      ],
      "text/plain": [
       "<IPython.core.display.HTML object>"
      ]
     },
     "metadata": {},
     "output_type": "display_data"
    }
   ],
   "source": [
    "# import packages\n",
    "import pandas as pd\n",
    "import matplotlib.pyplot as plt\n",
    "import numpy as np\n",
    "from statsmodels.tsa.stattools import adfuller\n",
    "from statsmodels.graphics.tsaplots import plot_acf, plot_pacf\n",
    "from statsmodels.tsa.arima_model import ARIMA, ARMAResults\n",
    "from sklearn.metrics import mean_squared_error\n",
    "import ipywidgets as widgets\n",
    "\n",
    "\n",
    "import seaborn as sns\n",
    "\n",
    "import random\n",
    "\n",
    "from gustavo_functions import *\n",
    "\n",
    "%load_ext autoreload\n",
    "%autoreload 2"
   ]
  },
  {
   "cell_type": "markdown",
   "metadata": {},
   "source": [
    "## SECTION 1: Cluster Analysis"
   ]
  },
  {
   "cell_type": "markdown",
   "metadata": {},
   "source": [
    "## SECTION 2: Correlation Analysis"
   ]
  },
  {
   "cell_type": "code",
   "execution_count": null,
   "metadata": {},
   "outputs": [],
   "source": []
  },
  {
   "cell_type": "markdown",
   "metadata": {},
   "source": [
    "##SECTION 3: ARIMA model for temperature forecasting"
   ]
  }
 ],
 "metadata": {
  "kernelspec": {
   "display_name": "ML_intro_py3.10",
   "language": "python",
   "name": "python3"
  },
  "language_info": {
   "codemirror_mode": {
    "name": "ipython",
    "version": 3
   },
   "file_extension": ".py",
   "mimetype": "text/x-python",
   "name": "python",
   "nbconvert_exporter": "python",
   "pygments_lexer": "ipython3",
   "version": "3.10.16"
  }
 },
 "nbformat": 4,
 "nbformat_minor": 4
}
