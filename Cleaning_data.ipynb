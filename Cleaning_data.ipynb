{
 "cells": [
  {
   "cell_type": "markdown",
   "metadata": {},
   "source": [
    "## Temperature forecasting for different cities in the world\n",
    "\n",
    "## Introduction\n",
    "For this project you are asked to analyze three datasets, called respectively:\n",
    "1. pollution_us_2000_2016.csv\n",
    "2. greenhouse_gas_inventory_data_data.csv\n",
    "3. GlobalLandTemperaturesByCity.csv\n",
    "\n",
    "You are asked to extract from dataset 2 only the US countries (for which we have info in the other datasets) and to perform the following tasks:\n",
    "- to measure how pollution and temperature create cluster tracing the high populated cities in the world\n",
    "- to analyze the correlation between pollution data and temperature change.\n",
    "- to predict the yearly temperature change of a given city over a given time period, using the <b>ARIMA model</b> for <b>time series forecasting</b>, that is a model for time series forecasting integrating AR models with Moving Average.\n",
    "- (OPTIONAL) rank the 5 cities that will have a highest temperature change in US\n",
    "\n",
    "\n",
    "### TASK1 :Cluster Analysis\n",
    "You use K-means or DBSCAN to perform the cluster analysis, and create a new dataset where the cities are associated to the different identified clusters\n",
    "\n",
    "### TASK 2: Correlation Analysis\n",
    "\n",
    "You measure the correlation between:\n",
    "- temperature and latitude\n",
    "- temperature and pollution\n",
    "- temperature change (difference between the average temperature measured over the last 3 years and the previous temperature) and pollution\n",
    "\n",
    "\n",
    "### TASK 3: Predicting the Temperature of a Given City across a Specified Time Period\n",
    "After reading the data in the temperature data set, for each city cluster, before applying the ARIMA model you perform the following steps:\n",
    "\n",
    "- EDA\n",
    "- data cleaning and preprocessing (Converting the 'dt' (date) column to DateTime format, removing NaN)\n",
    "- feature selection\n",
    "- make the time-series stationary\n",
    "- check for stationarity : Calculating the Augmented Dickey-Fuller Test statistic \n",
    "- identify the (p, q) order of the ARIMA model using ACF partial autocorrelation plot\n",
    "\n",
    "Then:\n",
    "\n",
    "-fit the ARIMA model using the calculated p, q values.\n",
    "-calculate the MSE with respect to the true temp. measurements to estimate the performance of the model\n",
    "\n",
    "\n",
    "NOTE: ARIMA models need the data to be stationary i.e. the data must not exhibit trend and/or seasonality. To identify and remove trend and seasonality, we can use\n",
    "- seasonal decomposition\n",
    "- differencing"
   ]
  },
  {
   "cell_type": "code",
   "execution_count": 16,
   "metadata": {},
   "outputs": [
    {
     "name": "stdout",
     "output_type": "stream",
     "text": [
      "The autoreload extension is already loaded. To reload it, use:\n",
      "  %reload_ext autoreload\n"
     ]
    }
   ],
   "source": [
    "# import packages\n",
    "import pandas as pd\n",
    "import matplotlib.pyplot as plt\n",
    "import numpy as np\n",
    "from statsmodels.tsa.stattools import adfuller\n",
    "from statsmodels.graphics.tsaplots import plot_acf, plot_pacf\n",
    "from statsmodels.tsa.arima_model import ARIMA, ARMAResults\n",
    "from sklearn.metrics import mean_squared_error\n",
    "import ipywidgets as widgets\n",
    "\n",
    "\n",
    "import seaborn as sns\n",
    "\n",
    "import random\n",
    "\n",
    "from gustavo_functions import *\n",
    "\n",
    "%load_ext autoreload\n",
    "%autoreload 2\n"
   ]
  },
  {
   "cell_type": "markdown",
   "metadata": {},
   "source": [
    "## SECTION 1: Cluster Analysis"
   ]
  },
  {
   "cell_type": "code",
   "execution_count": null,
   "metadata": {},
   "outputs": [],
   "source": [
    "# read the csv file containing the polluters \n",
    "# df_pollution = pd.read_csv#(\"cata/pollution_us_2000_2016.csv\")"
   ]
  },
  {
   "cell_type": "markdown",
   "metadata": {},
   "source": [
    "## SECTION 2: Correlation Analysis"
   ]
  },
  {
   "cell_type": "markdown",
   "metadata": {},
   "source": [
    "##SECTION 3: ARIMA model for temperature forecasting"
   ]
  },
  {
   "cell_type": "markdown",
   "metadata": {},
   "source": [
    "## Loading the data "
   ]
  },
  {
   "cell_type": "code",
   "execution_count": 2,
   "metadata": {},
   "outputs": [],
   "source": [
    "# read the csv file containing temperature data into a DataFrame\n",
    "Global = pd.read_csv(\"data-project3/GlobalLandTemperaturesByCity.csv\")"
   ]
  },
  {
   "cell_type": "code",
   "execution_count": 3,
   "metadata": {},
   "outputs": [],
   "source": [
    "# read the csv file containing temperature data into a DataFrame\n",
    "Green = pd.read_csv(\"data-project3/greenhouse_gas_inventory_data_data(1).csv\")"
   ]
  },
  {
   "cell_type": "code",
   "execution_count": 4,
   "metadata": {},
   "outputs": [],
   "source": [
    "Pollution = pd.read_csv(\"data-project3/pollution_us_2000_2016.csv\")"
   ]
  },
  {
   "cell_type": "markdown",
   "metadata": {},
   "source": [
    "## profiling the data "
   ]
  },
  {
   "cell_type": "code",
   "execution_count": null,
   "metadata": {},
   "outputs": [],
   "source": [
    "profile = ProfileReport(Global,title=\"GLTBC Profiling Report\")"
   ]
  },
  {
   "cell_type": "code",
   "execution_count": null,
   "metadata": {},
   "outputs": [],
   "source": [
    "profile2 = ProfileReport(Green,title=\"GGID2 Profiling Report\")"
   ]
  },
  {
   "cell_type": "code",
   "execution_count": 38,
   "metadata": {},
   "outputs": [],
   "source": [
    "\n",
    "profile3 = ProfileReport(Pollution,title=\"POLLUTION Profiling Report\")"
   ]
  },
  {
   "cell_type": "code",
   "execution_count": 5,
   "metadata": {},
   "outputs": [],
   "source": [
    "# profile.to_notebook_iframe()"
   ]
  },
  {
   "cell_type": "code",
   "execution_count": 6,
   "metadata": {},
   "outputs": [],
   "source": [
    "\n",
    "# profile2.to_notebook_iframe()"
   ]
  },
  {
   "cell_type": "code",
   "execution_count": 50,
   "metadata": {},
   "outputs": [],
   "source": [
    "#profile3.to_notebook_iframe()"
   ]
  },
  {
   "cell_type": "code",
   "execution_count": null,
   "metadata": {},
   "outputs": [],
   "source": [
    "# To save the profile but in this case I dont'n want to save \n",
    "#profile.to_file(\"report.html\")"
   ]
  },
  {
   "cell_type": "markdown",
   "metadata": {},
   "source": [
    "## Cleaning the data"
   ]
  },
  {
   "cell_type": "code",
   "execution_count": 5,
   "metadata": {},
   "outputs": [
    {
     "data": {
      "text/html": [
       "<div>\n",
       "<style scoped>\n",
       "    .dataframe tbody tr th:only-of-type {\n",
       "        vertical-align: middle;\n",
       "    }\n",
       "\n",
       "    .dataframe tbody tr th {\n",
       "        vertical-align: top;\n",
       "    }\n",
       "\n",
       "    .dataframe thead th {\n",
       "        text-align: right;\n",
       "    }\n",
       "</style>\n",
       "<table border=\"1\" class=\"dataframe\">\n",
       "  <thead>\n",
       "    <tr style=\"text-align: right;\">\n",
       "      <th></th>\n",
       "      <th>dt</th>\n",
       "      <th>AverageTemperature</th>\n",
       "      <th>AverageTemperatureUncertainty</th>\n",
       "      <th>City</th>\n",
       "      <th>Country</th>\n",
       "      <th>Latitude</th>\n",
       "      <th>Longitude</th>\n",
       "    </tr>\n",
       "  </thead>\n",
       "  <tbody>\n",
       "    <tr>\n",
       "      <th>0</th>\n",
       "      <td>1743-11-01</td>\n",
       "      <td>6.068</td>\n",
       "      <td>1.737</td>\n",
       "      <td>Århus</td>\n",
       "      <td>Denmark</td>\n",
       "      <td>57.05N</td>\n",
       "      <td>10.33E</td>\n",
       "    </tr>\n",
       "    <tr>\n",
       "      <th>1</th>\n",
       "      <td>1743-12-01</td>\n",
       "      <td>NaN</td>\n",
       "      <td>NaN</td>\n",
       "      <td>Århus</td>\n",
       "      <td>Denmark</td>\n",
       "      <td>57.05N</td>\n",
       "      <td>10.33E</td>\n",
       "    </tr>\n",
       "    <tr>\n",
       "      <th>2</th>\n",
       "      <td>1744-01-01</td>\n",
       "      <td>NaN</td>\n",
       "      <td>NaN</td>\n",
       "      <td>Århus</td>\n",
       "      <td>Denmark</td>\n",
       "      <td>57.05N</td>\n",
       "      <td>10.33E</td>\n",
       "    </tr>\n",
       "    <tr>\n",
       "      <th>3</th>\n",
       "      <td>1744-02-01</td>\n",
       "      <td>NaN</td>\n",
       "      <td>NaN</td>\n",
       "      <td>Århus</td>\n",
       "      <td>Denmark</td>\n",
       "      <td>57.05N</td>\n",
       "      <td>10.33E</td>\n",
       "    </tr>\n",
       "    <tr>\n",
       "      <th>4</th>\n",
       "      <td>1744-03-01</td>\n",
       "      <td>NaN</td>\n",
       "      <td>NaN</td>\n",
       "      <td>Århus</td>\n",
       "      <td>Denmark</td>\n",
       "      <td>57.05N</td>\n",
       "      <td>10.33E</td>\n",
       "    </tr>\n",
       "  </tbody>\n",
       "</table>\n",
       "</div>"
      ],
      "text/plain": [
       "           dt  AverageTemperature  AverageTemperatureUncertainty   City  \\\n",
       "0  1743-11-01               6.068                          1.737  Århus   \n",
       "1  1743-12-01                 NaN                            NaN  Århus   \n",
       "2  1744-01-01                 NaN                            NaN  Århus   \n",
       "3  1744-02-01                 NaN                            NaN  Århus   \n",
       "4  1744-03-01                 NaN                            NaN  Århus   \n",
       "\n",
       "   Country Latitude Longitude  \n",
       "0  Denmark   57.05N    10.33E  \n",
       "1  Denmark   57.05N    10.33E  \n",
       "2  Denmark   57.05N    10.33E  \n",
       "3  Denmark   57.05N    10.33E  \n",
       "4  Denmark   57.05N    10.33E  "
      ]
     },
     "execution_count": 5,
     "metadata": {},
     "output_type": "execute_result"
    }
   ],
   "source": [
    "#Global.City.unique()\n",
    "#print(list(Global.Country.unique()))\n",
    "# matches = [country for country in Global.Country.unique() if \"United States\" in str(country)]\n",
    "# print(matches)\n",
    "\n",
    "Global.head()"
   ]
  },
  {
   "cell_type": "code",
   "execution_count": 56,
   "metadata": {},
   "outputs": [
    {
     "name": "stdout",
     "output_type": "stream",
     "text": [
      "['Abilene', 'Akron', 'Albuquerque', 'Alexandria', 'Allentown', 'Amarillo', 'Anaheim', 'Anchorage', 'Ann Arbor', 'Antioch', 'Arlington', 'Arvada', 'Atlanta', 'Aurora', 'Austin', 'Bakersfield', 'Baltimore', 'Baton Rouge', 'Beaumont', 'Bellevue', 'Berkeley', 'Birmingham', 'Boston', 'Bridgeport', 'Brownsville', 'Buffalo', 'Burbank', 'Cambridge', 'Cape Coral', 'Carrollton', 'Cary', 'Cedar Rapids', 'Chandler', 'Charleston', 'Charlotte', 'Chattanooga', 'Chesapeake', 'Chicago', 'Chula Vista', 'Cincinnati', 'Clarksville', 'Clearwater', 'Cleveland', 'Colorado Springs', 'Columbia', 'Columbus', 'Concord', 'Coral Springs', 'Corona', 'Corpus Christi', 'Costa Mesa', 'Dallas', 'Dayton', 'Denton', 'Denver', 'Des Moines', 'Detroit', 'Downey', 'Durham', 'East Los Angeles', 'Edison', 'El Monte', 'El Paso', 'Elizabeth', 'Escondido', 'Eugene', 'Evansville', 'Fairfield', 'Fayetteville', 'Flint', 'Fontana', 'Fort Collins', 'Fort Lauderdale', 'Fort Wayne', 'Fort Worth', 'Fremont', 'Fresno', 'Fullerton', 'Gainesville', 'Garden Grove', 'Garland', 'Gilbert', 'Glendale', 'Grand Prairie', 'Grand Rapids', 'Green Bay', 'Greensboro', 'Hampton', 'Hartford', 'Hayward', 'Henderson', 'Hialeah', 'Highlands Ranch', 'Hollywood', 'Houston', 'Huntington Beach', 'Huntsville', 'Independence', 'Indianapolis', 'Inglewood', 'Irvine', 'Irving', 'Jackson', 'Jacksonville', 'Jersey City', 'Joliet', 'Kansas City', 'Killeen', 'Knoxville', 'Lafayette', 'Lakewood', 'Lancaster', 'Lansing', 'Laredo', 'Las Vegas', 'Lexington Fayette', 'Lincoln', 'Little Rock', 'Long Beach', 'Los Angeles', 'Louisville', 'Lowell', 'Lubbock', 'Madison', 'Manchester', 'Memphis', 'Mesa', 'Mesquite', 'Metairie', 'Miami', 'Milwaukee', 'Minneapolis', 'Miramar', 'Mobile', 'Modesto', 'Montgomery', 'Moreno Valley', 'Naperville', 'Nashville', 'New Haven', 'New Orleans', 'New York', 'Newark', 'Newport News', 'Nogales', 'Norfolk', 'Norman', 'North Las Vegas', 'Norwalk', 'Nuevo Laredo', 'Oakland', 'Oceanside', 'Oklahoma City', 'Olathe', 'Omaha', 'Ontario', 'Orange', 'Orlando', 'Overland Park', 'Oxnard', 'Palmdale', 'Paradise', 'Pasadena', 'Paterson', 'Pembroke Pines', 'Peoria', 'Philadelphia', 'Phoenix', 'Pittsburgh', 'Plano', 'Pomona', 'Port Saint Lucie', 'Portland', 'Providence', 'Provo', 'Pueblo', 'Raleigh', 'Rancho Cucamonga', 'Reno', 'Rialto', 'Richardson', 'Richmond', 'Riverside', 'Rochester', 'Rockford', 'Roseville', 'Sacramento', 'Saint Louis', 'Saint Paul', 'Saint Petersburg', 'Salem', 'Salinas', 'Salt Lake City', 'San Antonio', 'San Bernardino', 'San Diego', 'San Francisco', 'San Jose', 'Santa Ana', 'Santa Clara', 'Santa Clarita', 'Santa Rosa', 'Savannah', 'Scottsdale', 'Seattle', 'Shreveport', 'Simi Valley', 'Sioux Falls', 'South Bend', 'Spokane', 'Spring Valley', 'Springfield', 'Stamford', 'Sterling Heights', 'Stockton', 'Sunnyvale', 'Sunrise Manor', 'Syracuse', 'Tacoma', 'Tallahassee', 'Tampa', 'Tempe', 'Thornton', 'Thousand Oaks', 'Toledo', 'Toms River', 'Topeka', 'Torrance', 'Tucson', 'Tulsa', 'Vallejo', 'Vancouver', 'Virginia Beach', 'Visalia', 'Waco', 'Warren', 'Washington', 'Waterbury', 'West Covina', 'West Jordan', 'West Valley City', 'Westminster', 'Wichita', 'Wichita Falls', 'Windsor', 'Winston Salem', 'Worcester', 'Yonkers']\n"
     ]
    }
   ],
   "source": [
    "print(list(Global[Global.Country == \"United States\"].City.unique()))\n"
   ]
  },
  {
   "cell_type": "code",
   "execution_count": 28,
   "metadata": {},
   "outputs": [
    {
     "data": {
      "text/plain": [
       "(8406, 4)"
      ]
     },
     "execution_count": 28,
     "metadata": {},
     "output_type": "execute_result"
    }
   ],
   "source": [
    "Green.head()\n",
    "#print(list(Green.country_or_area.unique()))\n",
    "# matches = [country for country in Green.country_or_area.unique() if \"United States of America\" in str(country)]\n",
    "# print(matches)\n",
    "Green.shape"
   ]
  },
  {
   "cell_type": "code",
   "execution_count": 33,
   "metadata": {},
   "outputs": [
    {
     "data": {
      "text/html": [
       "<div>\n",
       "<style scoped>\n",
       "    .dataframe tbody tr th:only-of-type {\n",
       "        vertical-align: middle;\n",
       "    }\n",
       "\n",
       "    .dataframe tbody tr th {\n",
       "        vertical-align: top;\n",
       "    }\n",
       "\n",
       "    .dataframe thead th {\n",
       "        text-align: right;\n",
       "    }\n",
       "</style>\n",
       "<table border=\"1\" class=\"dataframe\">\n",
       "  <thead>\n",
       "    <tr style=\"text-align: right;\">\n",
       "      <th></th>\n",
       "      <th>country_or_area</th>\n",
       "      <th>year</th>\n",
       "      <th>value</th>\n",
       "      <th>category</th>\n",
       "    </tr>\n",
       "  </thead>\n",
       "  <tbody>\n",
       "    <tr>\n",
       "      <th>1049</th>\n",
       "      <td>United States of America</td>\n",
       "      <td>2014</td>\n",
       "      <td>5.556007e+06</td>\n",
       "      <td>carbon_dioxide_co2_emissions_without_land_use_...</td>\n",
       "    </tr>\n",
       "    <tr>\n",
       "      <th>1050</th>\n",
       "      <td>United States of America</td>\n",
       "      <td>2013</td>\n",
       "      <td>5.502551e+06</td>\n",
       "      <td>carbon_dioxide_co2_emissions_without_land_use_...</td>\n",
       "    </tr>\n",
       "    <tr>\n",
       "      <th>1051</th>\n",
       "      <td>United States of America</td>\n",
       "      <td>2012</td>\n",
       "      <td>5.349221e+06</td>\n",
       "      <td>carbon_dioxide_co2_emissions_without_land_use_...</td>\n",
       "    </tr>\n",
       "    <tr>\n",
       "      <th>1052</th>\n",
       "      <td>United States of America</td>\n",
       "      <td>2011</td>\n",
       "      <td>5.559508e+06</td>\n",
       "      <td>carbon_dioxide_co2_emissions_without_land_use_...</td>\n",
       "    </tr>\n",
       "    <tr>\n",
       "      <th>1053</th>\n",
       "      <td>United States of America</td>\n",
       "      <td>2010</td>\n",
       "      <td>5.688756e+06</td>\n",
       "      <td>carbon_dioxide_co2_emissions_without_land_use_...</td>\n",
       "    </tr>\n",
       "  </tbody>\n",
       "</table>\n",
       "</div>"
      ],
      "text/plain": [
       "               country_or_area  year         value  \\\n",
       "1049  United States of America  2014  5.556007e+06   \n",
       "1050  United States of America  2013  5.502551e+06   \n",
       "1051  United States of America  2012  5.349221e+06   \n",
       "1052  United States of America  2011  5.559508e+06   \n",
       "1053  United States of America  2010  5.688756e+06   \n",
       "\n",
       "                                               category  \n",
       "1049  carbon_dioxide_co2_emissions_without_land_use_...  \n",
       "1050  carbon_dioxide_co2_emissions_without_land_use_...  \n",
       "1051  carbon_dioxide_co2_emissions_without_land_use_...  \n",
       "1052  carbon_dioxide_co2_emissions_without_land_use_...  \n",
       "1053  carbon_dioxide_co2_emissions_without_land_use_...  "
      ]
     },
     "execution_count": 33,
     "metadata": {},
     "output_type": "execute_result"
    }
   ],
   "source": [
    "Green[Green.country_or_area == \"United States of America\"].head()"
   ]
  },
  {
   "cell_type": "code",
   "execution_count": null,
   "metadata": {},
   "outputs": [],
   "source": [
    "print(list(Global[Global.Country == \"United States\"].City.unique()))"
   ]
  },
  {
   "cell_type": "code",
   "execution_count": 57,
   "metadata": {},
   "outputs": [
    {
     "name": "stdout",
     "output_type": "stream",
     "text": [
      "['carbon_dioxide_co2_emissions_without_land_use_land_use_change_and_forestry_lulucf_in_kilotonne_co2_equivalent', 'greenhouse_gas_ghgs_emissions_including_indirect_co2_without_lulucf_in_kilotonne_co2_equivalent', 'greenhouse_gas_ghgs_emissions_without_land_use_land_use_change_and_forestry_lulucf_in_kilotonne_co2_equivalent', 'hydrofluorocarbons_hfcs_emissions_in_kilotonne_co2_equivalent', 'methane_ch4_emissions_without_land_use_land_use_change_and_forestry_lulucf_in_kilotonne_co2_equivalent', 'nitrogen_trifluoride_nf3_emissions_in_kilotonne_co2_equivalent', 'nitrous_oxide_n2o_emissions_without_land_use_land_use_change_and_forestry_lulucf_in_kilotonne_co2_equivalent', 'perfluorocarbons_pfcs_emissions_in_kilotonne_co2_equivalent', 'sulphur_hexafluoride_sf6_emissions_in_kilotonne_co2_equivalent', 'unspecified_mix_of_hydrofluorocarbons_hfcs_and_perfluorocarbons_pfcs_emissions_in_kilotonne_co2_equivalent']\n"
     ]
    }
   ],
   "source": [
    "\n",
    "print(list(Green[Green.country_or_area == \"United States of America\"].category.unique()))"
   ]
  },
  {
   "cell_type": "code",
   "execution_count": 14,
   "metadata": {},
   "outputs": [
    {
     "name": "stdout",
     "output_type": "stream",
     "text": [
      "['Arizona', 'California', 'Colorado', 'District Of Columbia', 'Florida', 'Illinois', 'Indiana', 'Kansas', 'Kentucky', 'Louisiana', 'Michigan', 'Missouri', 'New Jersey', 'New York', 'North Carolina', 'Oklahoma', 'Pennsylvania', 'Texas', 'Virginia', 'Massachusetts', 'Nevada', 'New Hampshire', 'Tennessee', 'South Carolina', 'Connecticut', 'Iowa', 'Maine', 'Maryland', 'Wisconsin', 'Country Of Mexico', 'Arkansas', 'Oregon', 'Wyoming', 'North Dakota', 'Idaho', 'Ohio', 'Georgia', 'Delaware', 'Hawaii', 'Minnesota', 'New Mexico', 'Rhode Island', 'South Dakota', 'Utah', 'Alabama', 'Washington', 'Alaska']\n"
     ]
    }
   ],
   "source": [
    "#print(list(Pollution['County Code'].unique()))\n",
    "\n",
    "print(list(Pollution['State'].unique()))"
   ]
  },
  {
   "cell_type": "code",
   "execution_count": 15,
   "metadata": {},
   "outputs": [
    {
     "name": "stdout",
     "output_type": "stream",
     "text": [
      "['Phoenix', 'Scottsdale', 'Tucson', 'Concord', 'Bethel Island', 'San Pablo', 'Pittsburg', 'Calexico', 'Bakersfield', 'Burbank', 'Los Angeles', 'Long Beach', 'Hawthorne', 'Costa Mesa', 'Rubidoux', 'Not in a city', 'Arden-Arcade', 'Victorville', 'Chula Vista', 'San Diego', 'San Francisco', 'Capitan', 'Lompoc', 'Goleta', 'Vandenberg Air Force Base', 'Davenport', 'Vallejo', 'Welby', 'Washington', 'Winter Park', 'Chicago', 'Cicero', 'Calumet City (PU RR name Calumet Park (sta.))', 'Indianapolis (Remainder)', 'Kansas City', 'Ashland', 'Lexington-Fayette (corporate name for Lexington)', 'Henderson', 'Louisville', 'Paducah', 'Baton Rouge', 'Detroit', 'Sunset Hills', 'Ladue', 'Ferguson', 'St. Ann', 'St. Louis', 'Camden', 'New York', 'Holtsville', 'Winston-Salem', 'Charlotte', 'Park Hill', 'Ponca City', 'Pittsburgh', 'Beaver Falls', 'Reading', 'Altoona', 'Bristol', 'Johnstown', 'Scranton', 'Lancaster', 'New Castle', 'Norristown', 'Freemansburg', 'Philadelphia', 'Charleroi', 'Greensburg', 'York', 'Dallas', 'El Paso', 'Houston', 'Seven Corners', 'McLean', 'Alexandria', 'Oakland', 'Crockett', 'West Los Angeles', 'East Saint Louis', 'Boston', 'Breckenridge Hills', 'Boulder City', 'Newark', 'Miami', 'Grand Rapids', 'Manchester', 'Fresno', 'Denver', 'Kenner', 'Erie', 'Eureka', 'New Haven', 'Presque Isle', 'Essex', 'Tulsa', 'Wilkes-Barre', 'Annandale', 'Milwaukee', 'Tijuana', 'Rosarito', 'Mexicali', 'North Little Rock', 'Berkeley', 'Benicia', 'Westport', 'East Hartford', 'Valrico', 'Northbrook', 'Des Moines', 'Beltsville', 'Portland', 'Waco', 'Fontana', 'Cherry Tree', 'San Antonio', 'San Jose', 'Athens', 'Cupertino', 'Cornwall', 'Reno', 'Deer Park', 'East Highland Park', 'Hampton', 'El Cajon', 'Wilmington', 'Blaine', 'Albuquerque', 'Rochester', 'Cleveland', 'Cincinnati', 'Oklahoma City', 'East Providence', 'Sioux Falls', 'Salt Lake City', 'Austin', 'Roosevelt', 'Birmingham', 'Vinton', 'Seattle', 'Fairbanks', 'Grantsville', 'Raleigh', 'Riverton', 'Dentsville (Dents)']\n"
     ]
    }
   ],
   "source": [
    "print(list(Pollution['City'].unique()))"
   ]
  },
  {
   "cell_type": "code",
   "execution_count": null,
   "metadata": {},
   "outputs": [
    {
     "data": {
      "text/html": [
       "<div>\n",
       "<style scoped>\n",
       "    .dataframe tbody tr th:only-of-type {\n",
       "        vertical-align: middle;\n",
       "    }\n",
       "\n",
       "    .dataframe tbody tr th {\n",
       "        vertical-align: top;\n",
       "    }\n",
       "\n",
       "    .dataframe thead th {\n",
       "        text-align: right;\n",
       "    }\n",
       "</style>\n",
       "<table border=\"1\" class=\"dataframe\">\n",
       "  <thead>\n",
       "    <tr style=\"text-align: right;\">\n",
       "      <th></th>\n",
       "      <th>Unnamed: 0</th>\n",
       "      <th>State Code</th>\n",
       "      <th>County Code</th>\n",
       "      <th>Site Num</th>\n",
       "      <th>Address</th>\n",
       "      <th>State</th>\n",
       "      <th>County</th>\n",
       "      <th>City</th>\n",
       "      <th>Date Local</th>\n",
       "      <th>NO2 Units</th>\n",
       "      <th>...</th>\n",
       "      <th>SO2 Units</th>\n",
       "      <th>SO2 Mean</th>\n",
       "      <th>SO2 1st Max Value</th>\n",
       "      <th>SO2 1st Max Hour</th>\n",
       "      <th>SO2 AQI</th>\n",
       "      <th>CO Units</th>\n",
       "      <th>CO Mean</th>\n",
       "      <th>CO 1st Max Value</th>\n",
       "      <th>CO 1st Max Hour</th>\n",
       "      <th>CO AQI</th>\n",
       "    </tr>\n",
       "  </thead>\n",
       "  <tbody>\n",
       "    <tr>\n",
       "      <th>0</th>\n",
       "      <td>0</td>\n",
       "      <td>4</td>\n",
       "      <td>13</td>\n",
       "      <td>3002</td>\n",
       "      <td>1645 E ROOSEVELT ST-CENTRAL PHOENIX STN</td>\n",
       "      <td>Arizona</td>\n",
       "      <td>Maricopa</td>\n",
       "      <td>Phoenix</td>\n",
       "      <td>2000-01-01</td>\n",
       "      <td>Parts per billion</td>\n",
       "      <td>...</td>\n",
       "      <td>Parts per billion</td>\n",
       "      <td>3.000000</td>\n",
       "      <td>9.0</td>\n",
       "      <td>21</td>\n",
       "      <td>13.0</td>\n",
       "      <td>Parts per million</td>\n",
       "      <td>1.145833</td>\n",
       "      <td>4.2</td>\n",
       "      <td>21</td>\n",
       "      <td>NaN</td>\n",
       "    </tr>\n",
       "    <tr>\n",
       "      <th>1</th>\n",
       "      <td>1</td>\n",
       "      <td>4</td>\n",
       "      <td>13</td>\n",
       "      <td>3002</td>\n",
       "      <td>1645 E ROOSEVELT ST-CENTRAL PHOENIX STN</td>\n",
       "      <td>Arizona</td>\n",
       "      <td>Maricopa</td>\n",
       "      <td>Phoenix</td>\n",
       "      <td>2000-01-01</td>\n",
       "      <td>Parts per billion</td>\n",
       "      <td>...</td>\n",
       "      <td>Parts per billion</td>\n",
       "      <td>3.000000</td>\n",
       "      <td>9.0</td>\n",
       "      <td>21</td>\n",
       "      <td>13.0</td>\n",
       "      <td>Parts per million</td>\n",
       "      <td>0.878947</td>\n",
       "      <td>2.2</td>\n",
       "      <td>23</td>\n",
       "      <td>25.0</td>\n",
       "    </tr>\n",
       "    <tr>\n",
       "      <th>2</th>\n",
       "      <td>2</td>\n",
       "      <td>4</td>\n",
       "      <td>13</td>\n",
       "      <td>3002</td>\n",
       "      <td>1645 E ROOSEVELT ST-CENTRAL PHOENIX STN</td>\n",
       "      <td>Arizona</td>\n",
       "      <td>Maricopa</td>\n",
       "      <td>Phoenix</td>\n",
       "      <td>2000-01-01</td>\n",
       "      <td>Parts per billion</td>\n",
       "      <td>...</td>\n",
       "      <td>Parts per billion</td>\n",
       "      <td>2.975000</td>\n",
       "      <td>6.6</td>\n",
       "      <td>23</td>\n",
       "      <td>NaN</td>\n",
       "      <td>Parts per million</td>\n",
       "      <td>1.145833</td>\n",
       "      <td>4.2</td>\n",
       "      <td>21</td>\n",
       "      <td>NaN</td>\n",
       "    </tr>\n",
       "    <tr>\n",
       "      <th>3</th>\n",
       "      <td>3</td>\n",
       "      <td>4</td>\n",
       "      <td>13</td>\n",
       "      <td>3002</td>\n",
       "      <td>1645 E ROOSEVELT ST-CENTRAL PHOENIX STN</td>\n",
       "      <td>Arizona</td>\n",
       "      <td>Maricopa</td>\n",
       "      <td>Phoenix</td>\n",
       "      <td>2000-01-01</td>\n",
       "      <td>Parts per billion</td>\n",
       "      <td>...</td>\n",
       "      <td>Parts per billion</td>\n",
       "      <td>2.975000</td>\n",
       "      <td>6.6</td>\n",
       "      <td>23</td>\n",
       "      <td>NaN</td>\n",
       "      <td>Parts per million</td>\n",
       "      <td>0.878947</td>\n",
       "      <td>2.2</td>\n",
       "      <td>23</td>\n",
       "      <td>25.0</td>\n",
       "    </tr>\n",
       "    <tr>\n",
       "      <th>4</th>\n",
       "      <td>4</td>\n",
       "      <td>4</td>\n",
       "      <td>13</td>\n",
       "      <td>3002</td>\n",
       "      <td>1645 E ROOSEVELT ST-CENTRAL PHOENIX STN</td>\n",
       "      <td>Arizona</td>\n",
       "      <td>Maricopa</td>\n",
       "      <td>Phoenix</td>\n",
       "      <td>2000-01-02</td>\n",
       "      <td>Parts per billion</td>\n",
       "      <td>...</td>\n",
       "      <td>Parts per billion</td>\n",
       "      <td>1.958333</td>\n",
       "      <td>3.0</td>\n",
       "      <td>22</td>\n",
       "      <td>4.0</td>\n",
       "      <td>Parts per million</td>\n",
       "      <td>0.850000</td>\n",
       "      <td>1.6</td>\n",
       "      <td>23</td>\n",
       "      <td>NaN</td>\n",
       "    </tr>\n",
       "  </tbody>\n",
       "</table>\n",
       "<p>5 rows × 29 columns</p>\n",
       "</div>"
      ],
      "text/plain": [
       "   Unnamed: 0  State Code  County Code  Site Num  \\\n",
       "0           0           4           13      3002   \n",
       "1           1           4           13      3002   \n",
       "2           2           4           13      3002   \n",
       "3           3           4           13      3002   \n",
       "4           4           4           13      3002   \n",
       "\n",
       "                                   Address    State    County     City  \\\n",
       "0  1645 E ROOSEVELT ST-CENTRAL PHOENIX STN  Arizona  Maricopa  Phoenix   \n",
       "1  1645 E ROOSEVELT ST-CENTRAL PHOENIX STN  Arizona  Maricopa  Phoenix   \n",
       "2  1645 E ROOSEVELT ST-CENTRAL PHOENIX STN  Arizona  Maricopa  Phoenix   \n",
       "3  1645 E ROOSEVELT ST-CENTRAL PHOENIX STN  Arizona  Maricopa  Phoenix   \n",
       "4  1645 E ROOSEVELT ST-CENTRAL PHOENIX STN  Arizona  Maricopa  Phoenix   \n",
       "\n",
       "   Date Local          NO2 Units  ...          SO2 Units  SO2 Mean  \\\n",
       "0  2000-01-01  Parts per billion  ...  Parts per billion  3.000000   \n",
       "1  2000-01-01  Parts per billion  ...  Parts per billion  3.000000   \n",
       "2  2000-01-01  Parts per billion  ...  Parts per billion  2.975000   \n",
       "3  2000-01-01  Parts per billion  ...  Parts per billion  2.975000   \n",
       "4  2000-01-02  Parts per billion  ...  Parts per billion  1.958333   \n",
       "\n",
       "   SO2 1st Max Value  SO2 1st Max Hour SO2 AQI           CO Units   CO Mean  \\\n",
       "0                9.0                21    13.0  Parts per million  1.145833   \n",
       "1                9.0                21    13.0  Parts per million  0.878947   \n",
       "2                6.6                23     NaN  Parts per million  1.145833   \n",
       "3                6.6                23     NaN  Parts per million  0.878947   \n",
       "4                3.0                22     4.0  Parts per million  0.850000   \n",
       "\n",
       "   CO 1st Max Value  CO 1st Max Hour CO AQI  \n",
       "0               4.2               21    NaN  \n",
       "1               2.2               23   25.0  \n",
       "2               4.2               21    NaN  \n",
       "3               2.2               23   25.0  \n",
       "4               1.6               23    NaN  \n",
       "\n",
       "[5 rows x 29 columns]"
      ]
     },
     "execution_count": 53,
     "metadata": {},
     "output_type": "execute_result"
    }
   ],
   "source": [
    "#Pollution.head()\n",
    "#print(list(Pollution['County Code'].unique()))\n",
    "#Pollution.columns\n",
    "\n",
    "#filtered_data = \n",
    "#Pollution[Pollution['County Code'] == 183].head()\n",
    "#print(filtered_data)\n",
    "#filtered_data.head(10)\n",
    "Pollution.head()"
   ]
  },
  {
   "cell_type": "code",
   "execution_count": null,
   "metadata": {},
   "outputs": [],
   "source": [
    "print(list(Global[Global.Country == \"United States\"].City.unique()))"
   ]
  },
  {
   "cell_type": "code",
   "execution_count": 71,
   "metadata": {},
   "outputs": [
    {
     "data": {
      "text/plain": [
       "(1746661, 29)"
      ]
     },
     "execution_count": 71,
     "metadata": {},
     "output_type": "execute_result"
    }
   ],
   "source": [
    "Pollution.shape"
   ]
  },
  {
   "cell_type": "markdown",
   "metadata": {},
   "source": [
    "## Cleaning the data "
   ]
  },
  {
   "cell_type": "code",
   "execution_count": 41,
   "metadata": {},
   "outputs": [],
   "source": [
    "# Set the random seed for reproducibility\n",
    "np.random.seed(42)\n",
    "\n",
    "# Load your green dataset (assumed to be in a CSV file called \"green.csv\")\n",
    "green = pd.read_csv(\"data-project3/greenhouse_gas_inventory_data_data(1).csv\")\n",
    "\n",
    "# Drop the 'country_or_area' column\n",
    "green = green.drop(columns=[\"country_or_area\"])\n",
    "\n",
    "# Load the dataset containing cities (assumed to be in a CSV file called \"cities_dataset.csv\")\n",
    "cities_df = pd.read_csv(\"data-project3/pollution_us_2000_2016.csv\")\n",
    "\n",
    "# Extract the unique cities from the 'City' column\n",
    "unique_cities = cities_df[\"City\"].unique()\n",
    "\n",
    "# Randomly assign a city from the unique cities to each row in the green dataset.\n",
    "# This assignment is uniform (if you need weighting based on another variable, adjustments can be made).\n",
    "green[\"cities\"] = np.random.choice(unique_cities, size=len(green))\n",
    "\n",
    "# Save the modified dataset to a new CSV file called 'new_green.csv'\n",
    "green.to_csv(\"new_green.csv\", index=False)"
   ]
  },
  {
   "cell_type": "code",
   "execution_count": 53,
   "metadata": {},
   "outputs": [],
   "source": [
    "# Load the datasets (make sure to update the file paths if necessary)\n",
    "global_df = pd.read_csv(\"data-project3/GlobalLandTemperaturesByCity.csv\")\n",
    "#green_df = pd.read_csv(\"data-project3/greenhouse_gas_inventory_data_data(1).csv\")\n",
    "#green_df = pd.read_csv(\"new_green.csv\")\n",
    "green_df = green\n",
    "pollution_df = pd.read_csv(\"data-project3/pollution_us_2000_2016.csv\")\n",
    "\n",
    "\n",
    "### 1 Cleaning the GlobalLandTemperaturesByCity dataset\n",
    "# Filter only data for the United States\n",
    "global_df = global_df[global_df[\"Country\"] == \"United States\"].copy()\n",
    "\n",
    "# Convert the date column to datetime format\n",
    "global_df[\"dt\"] = pd.to_datetime(global_df[\"dt\"])\n",
    "\n",
    "# Extract the year from the date column\n",
    "global_df[\"Year\"] = global_df[\"dt\"].dt.year\n",
    "\n",
    "# Remove NaN values in the temperature column\n",
    "global_df.dropna(subset=[\"AverageTemperature\"], inplace=True)\n",
    "\n",
    "# Group by city and year, calculating the annual average temperature\n",
    "global_clean = global_df.groupby([\"City\", \"Year\"])['AverageTemperature'].mean().reset_index()\n",
    "\n",
    "# Extract unique latitude values per city\n",
    "latitude_df = global_df[[\"City\", \"Latitude\",\"Longitude\"]].drop_duplicates()\n",
    "\n",
    "### 2 Cleaning the Greenhouse Gas dataset\n",
    "# Filter only \"United States of America\"\n",
    "#green_df = green_df[green_df[\"country_or_area\"] == \"United States of America\"].copy()\n",
    "\n",
    "# Remove NaN values in the value column\n",
    "green_df.dropna(subset=[\"value\"], inplace=True)\n",
    "\n",
    "# Keep only key columns\n",
    "green_clean = green_df[[\"year\", \"value\"]] #green_df[[\"year\", \"value\", \"category\"]]\n",
    "\n",
    "### 3 Cleaning the Pollution dataset\n",
    "# Convert the date column to datetime format\n",
    "pollution_df[\"Date Local\"] = pd.to_datetime(pollution_df[\"Date Local\"])\n",
    "\n",
    "# Extract the year from the date column\n",
    "pollution_df[\"Year\"] = pollution_df[\"Date Local\"].dt.year\n",
    "\n",
    "# Select key columns\n",
    "pollution_clean = pollution_df[[\"City\", \"Year\", \"NO2 Mean\", \"SO2 Mean\", \"CO Mean\"]]\n",
    "\n",
    "# Average pollution values by city and year\n",
    "pollution_clean = pollution_clean.groupby([\"City\", \"Year\"]).mean().reset_index()\n",
    "\n",
    "###  Merging the datasets\n",
    "# Merge temperature and pollution data\n",
    "merged_df = pd.merge(global_clean, pollution_clean, on=[\"City\", \"Year\"], how=\"inner\")\n",
    "\n",
    "# Merge with greenhouse gas data\n",
    "final_df = pd.merge(merged_df, green_clean, left_on=\"Year\", right_on=\"year\", how=\"inner\")\n",
    "\n",
    "# Drop the duplicate year column\n",
    "final_df.drop(columns=[\"year\"], inplace=True)\n",
    "\n",
    "# Merge latitude data\n",
    "final_df = pd.merge(final_df, latitude_df, on=\"City\", how=\"left\")\n",
    "\n",
    "# Convert latitude values to numeric format\n",
    "final_df[\"Latitude\"] = final_df[\"Latitude\"].str.replace(\"N\", \"\").str.replace(\"S\", \"-\").astype(float)\n",
    "\n",
    "# Convert longitude to numeric format\n",
    "final_df[\"Longitude\"] = final_df[\"Longitude\"].apply(lambda x: float(x[:-1]) * (-1 if x[-1] == 'W' else 1))\n",
    "\n",
    "###\n",
    "final_df = final_df.rename(columns={'value': 'CO2-natural-pross'})\n",
    "\n",
    "# Save the cleaned and merged dataset in CSV format\n",
    "final_df.to_csv(\"cleaned_temperature_pollution_data.csv\", index=False)"
   ]
  },
  {
   "cell_type": "code",
   "execution_count": 54,
   "metadata": {},
   "outputs": [
    {
     "data": {
      "text/plain": [
       "(163059, 9)"
      ]
     },
     "execution_count": 54,
     "metadata": {},
     "output_type": "execute_result"
    }
   ],
   "source": [
    "final_df.shape"
   ]
  },
  {
   "cell_type": "code",
   "execution_count": 55,
   "metadata": {},
   "outputs": [
    {
     "data": {
      "text/html": [
       "<div>\n",
       "<style scoped>\n",
       "    .dataframe tbody tr th:only-of-type {\n",
       "        vertical-align: middle;\n",
       "    }\n",
       "\n",
       "    .dataframe tbody tr th {\n",
       "        vertical-align: top;\n",
       "    }\n",
       "\n",
       "    .dataframe thead th {\n",
       "        text-align: right;\n",
       "    }\n",
       "</style>\n",
       "<table border=\"1\" class=\"dataframe\">\n",
       "  <thead>\n",
       "    <tr style=\"text-align: right;\">\n",
       "      <th></th>\n",
       "      <th>City</th>\n",
       "      <th>Year</th>\n",
       "      <th>AverageTemperature</th>\n",
       "      <th>NO2 Mean</th>\n",
       "      <th>SO2 Mean</th>\n",
       "      <th>CO Mean</th>\n",
       "      <th>CO2-natural-pross</th>\n",
       "      <th>Latitude</th>\n",
       "      <th>Longitude</th>\n",
       "    </tr>\n",
       "  </thead>\n",
       "  <tbody>\n",
       "    <tr>\n",
       "      <th>0</th>\n",
       "      <td>Albuquerque</td>\n",
       "      <td>2011</td>\n",
       "      <td>11.7585</td>\n",
       "      <td>13.406795</td>\n",
       "      <td>0.404034</td>\n",
       "      <td>0.205522</td>\n",
       "      <td>403705.528314</td>\n",
       "      <td>34.56</td>\n",
       "      <td>-107.03</td>\n",
       "    </tr>\n",
       "    <tr>\n",
       "      <th>1</th>\n",
       "      <td>Albuquerque</td>\n",
       "      <td>2011</td>\n",
       "      <td>11.7585</td>\n",
       "      <td>13.406795</td>\n",
       "      <td>0.404034</td>\n",
       "      <td>0.205522</td>\n",
       "      <td>70327.167044</td>\n",
       "      <td>34.56</td>\n",
       "      <td>-107.03</td>\n",
       "    </tr>\n",
       "    <tr>\n",
       "      <th>2</th>\n",
       "      <td>Albuquerque</td>\n",
       "      <td>2011</td>\n",
       "      <td>11.7585</td>\n",
       "      <td>13.406795</td>\n",
       "      <td>0.404034</td>\n",
       "      <td>0.205522</td>\n",
       "      <td>61128.400593</td>\n",
       "      <td>34.56</td>\n",
       "      <td>-107.03</td>\n",
       "    </tr>\n",
       "    <tr>\n",
       "      <th>3</th>\n",
       "      <td>Albuquerque</td>\n",
       "      <td>2011</td>\n",
       "      <td>11.7585</td>\n",
       "      <td>13.406795</td>\n",
       "      <td>0.404034</td>\n",
       "      <td>0.205522</td>\n",
       "      <td>104945.713771</td>\n",
       "      <td>34.56</td>\n",
       "      <td>-107.03</td>\n",
       "    </tr>\n",
       "    <tr>\n",
       "      <th>4</th>\n",
       "      <td>Albuquerque</td>\n",
       "      <td>2011</td>\n",
       "      <td>11.7585</td>\n",
       "      <td>13.406795</td>\n",
       "      <td>0.404034</td>\n",
       "      <td>0.205522</td>\n",
       "      <td>53020.981116</td>\n",
       "      <td>34.56</td>\n",
       "      <td>-107.03</td>\n",
       "    </tr>\n",
       "  </tbody>\n",
       "</table>\n",
       "</div>"
      ],
      "text/plain": [
       "          City  Year  AverageTemperature   NO2 Mean  SO2 Mean   CO Mean  \\\n",
       "0  Albuquerque  2011             11.7585  13.406795  0.404034  0.205522   \n",
       "1  Albuquerque  2011             11.7585  13.406795  0.404034  0.205522   \n",
       "2  Albuquerque  2011             11.7585  13.406795  0.404034  0.205522   \n",
       "3  Albuquerque  2011             11.7585  13.406795  0.404034  0.205522   \n",
       "4  Albuquerque  2011             11.7585  13.406795  0.404034  0.205522   \n",
       "\n",
       "   CO2-natural-pross  Latitude  Longitude  \n",
       "0      403705.528314     34.56    -107.03  \n",
       "1       70327.167044     34.56    -107.03  \n",
       "2       61128.400593     34.56    -107.03  \n",
       "3      104945.713771     34.56    -107.03  \n",
       "4       53020.981116     34.56    -107.03  "
      ]
     },
     "execution_count": 55,
     "metadata": {},
     "output_type": "execute_result"
    }
   ],
   "source": [
    "final_df.head()"
   ]
  }
 ],
 "metadata": {
  "kernelspec": {
   "display_name": "ML_intro_py3.10",
   "language": "python",
   "name": "python3"
  },
  "language_info": {
   "codemirror_mode": {
    "name": "ipython",
    "version": 3
   },
   "file_extension": ".py",
   "mimetype": "text/x-python",
   "name": "python",
   "nbconvert_exporter": "python",
   "pygments_lexer": "ipython3",
   "version": "3.10.16"
  }
 },
 "nbformat": 4,
 "nbformat_minor": 4
}
